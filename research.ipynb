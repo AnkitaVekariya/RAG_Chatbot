{
 "cells": [
  {
   "cell_type": "code",
   "execution_count": 1,
   "metadata": {},
   "outputs": [
    {
     "name": "stdout",
     "output_type": "stream",
     "text": [
      "Hello Parth!\n"
     ]
    }
   ],
   "source": [
    "print(\"Hello Parth!\")"
   ]
  },
  {
   "cell_type": "code",
   "execution_count": 75,
   "metadata": {},
   "outputs": [],
   "source": [
    "from langchain_community.document_loaders import PyPDFLoader, DirectoryLoader\n",
    "\n",
    "def load_pdf(pdf_path):\n",
    "    loader = PyPDFLoader(file_path=pdf_path)\n",
    "    documents = loader.lazy_load()\n",
    "    docs = []\n",
    "    for doc in documents:\n",
    "        docs.append(doc)\n",
    "    return docs\n",
    "\n",
    "extracted_data = load_pdf(\"StandardVeterinaryTreatment.pdf\")"
   ]
  },
  {
   "cell_type": "code",
   "execution_count": 98,
   "metadata": {},
   "outputs": [
    {
     "name": "stdout",
     "output_type": "stream",
     "text": [
      "83\n",
      "STANDARD VETERINARY TREATMENT GUIDELINES FOR LIVESTOCK AND POULTRY\n",
      "enzootic bovine leukaemia (EBL), is a contagious \n",
      "disease in cattle caused by the bovine leukaemia \n",
      "virus (BLV). It belongs to the genus Deltaretrovirus \n",
      "in family Retroviridae. Retrovirus integrates into \n",
      "the host’s DNA and can lead to the development \n",
      "of lymphosarcoma, a type of cancer affecting the \n",
      "lymphatic system.\n",
      "Transmission\n",
      "Bovine leukaemia virus (BLV) primarily transmits \n",
      "through infected blood or body fluids. Transmission \n",
      "can occur during procedures like dehorning, \n",
      "castration, and vaccination if hygiene is inadequate. \n",
      "Biting insects and flies can also facilitate virus \n",
      "transmission between cattle. Infected cows may \n",
      "transmit BLV to their calves during pregnancy and \n",
      "calves can acquire the virus through colostrum \n",
      "or milk consumption. The virus can spread via \n",
      "contaminated needles, surgical tools, and other \n",
      "equipment used for injections and blood sampling, \n",
      "as well as through contaminated gloves during \n",
      "rectal examinations. Close contact among cattle, \n",
      "particularly in intensive farming system, further \n",
      "facilitates the transmission of BLV .\n",
      "Clinical Signs \n",
      "The disease often shows no clinical signs in many \n",
      "infected cattle.  However, when clinical signs \n",
      "do appear, they can be categorized based on the \n",
      "progression of the disease:\n",
      "In asymptomatic phase - most infected cattle do \n",
      "not show any obvious symptoms and can remain \n",
      "asymptomatic for long periods. \n",
      "In persistent lymphocytosis - some cattle may \n",
      "develop persistent lymphocytosis, characterized by \n",
      "an elevated number of lymphocytes in the blood. \n",
      "In lymphosarcoma - a small percentage of cattle \n",
      "infected with BLV may develop lymphosarcoma, \n",
      "presenting various clinical signs, viz., enlargement \n",
      "of superficial lymph nodes near the jaw, shoulder, \n",
      "or hindquarters, progressive weight loss, and a \n",
      "noticeable decline in milk production in dairy \n",
      "cows. Gastrointestinal tumors may cause diarrhoea, \n",
      "constipation, bloating, or abdominal distention. \n",
      "In respiratory system involvement, affected cattle \n",
      "exhibit coughing or labored breathing. Tumors in \n",
      "the central nervous system may lead to weakness, \n",
      "lameness, or paralysis. Other symptoms include \n",
      "fever, lethargy, and reduced appetite.\n",
      "Lesions\n",
      "Animals with BLV-associated lymphosarcoma often \n",
      "exhibit lesions in central or peripheral lymph nodes, \n",
      "leading to lymphadenopathy. Abomasal lesions can \n",
      "cause cranial abdominal pain, melena, or abomasal \n",
      "outflow obstruction, while extradural spinal lesions \n",
      "may result in pelvic limb paresis progressing to \n",
      "paralysis. In right atrium lesions, arrhythmias, \n",
      "murmurs or heart failure may occur. Uterine lesions \n",
      "may result in reproductive failure or abortion, and \n",
      "lesions of internal organs typically involve the spleen, \n",
      "liver, or kidneys and ureters. Liver lymphosarcoma - \n",
      "usually asymptomatic - can lead to jaundice and liver \n",
      "failure, while kidney and ureter disease may cause \n",
      "abdominal pain, hydroureter, hydronephrosis, and \n",
      "renal failure. Lymphosarcoma appears as yellow-tan \n",
      "nodular masses or a diffuse tissue infiltrate, with \n",
      "histological examination revealing densely packed, \n",
      "monomorphic lymphocytic cells.\n",
      "Diagnosis\n",
      "Diagnosis of BLV is done by clinical examination. \n",
      "The initial signs may include lymphadenopathy, \n",
      "weight loss, decreased milk production, and other \n",
      "symptoms related to specific organ involvement, \n",
      "such as abdominal pain, paralysis, or cardiac \n",
      "issues. In serological testing-detection of antibodies \n",
      "against BLV in the blood by ELISA, and by agar \n",
      "gel immunodiffusion (AGID). In molecular \n",
      "diagnosis, PCR detects BLV DNA in blood samples \n",
      "and is used to confirm the presence of the virus, \n",
      "especially when serological tests are inconclusive. \n",
      "Histopathologically, tissue samples showed the \n",
      "presence of neoplastic lymphocytes typical of \n",
      "lymphosarcoma. On haematology, blood smear may \n",
      "reveal atypical lymphocytes.\n",
      "Differential Diagnosis\n",
      "It should differentially be diagnosed from \n",
      "tuberculosis, Johne’s disease, lymphadenitis, bovine \n",
      "viral diarrhoea, actinobacillosis, actinomycosis, \n",
      "brucellosis, lymphoma etc.\n",
      "Treatment\n",
      "There is no treatment for lymphosarcoma in cattle, \n",
      "although parenteral corticosteroids (prednisolone \n",
      "@ 1-4 mg/kg BW IM) can transiently decrease the \n",
      "severity of clinical signs. \n",
      "Prevention and Control\n",
      "There are several strategies to prevent and control \n"
     ]
    }
   ],
   "source": [
    "print(extracted_data[100].page_content)"
   ]
  },
  {
   "cell_type": "code",
   "execution_count": 78,
   "metadata": {},
   "outputs": [],
   "source": [
    "from langchain_text_splitters import RecursiveCharacterTextSplitter\n",
    "\n",
    "# Text chunks\n",
    "def text_split(extracted_data):\n",
    "    text_splitter = RecursiveCharacterTextSplitter(chunk_size=300, chunk_overlap=50)\n",
    "    text_chunks = text_splitter.split_documents(extracted_data)\n",
    "    return text_chunks"
   ]
  },
  {
   "cell_type": "code",
   "execution_count": 79,
   "metadata": {},
   "outputs": [
    {
     "name": "stdout",
     "output_type": "stream",
     "text": [
      "Length of text chunks : 5759\n"
     ]
    }
   ],
   "source": [
    "text_chunks = text_split(extracted_data)\n",
    "print(f\"Length of text chunks : {len(text_chunks)}\")"
   ]
  },
  {
   "cell_type": "code",
   "execution_count": 81,
   "metadata": {},
   "outputs": [
    {
     "name": "stdout",
     "output_type": "stream",
     "text": [
      "and cytochrome CYP3A4, so it can modify the \n",
      "concentration of majority of drugs.\n",
      "Capsaicin (Chili pepper) is vasodilator, analgesic, \n",
      "antibacterial, antioxidant, anticancer, and \n",
      "antidiabetic. It is contraindicated with aspirin, \n",
      "clopidogrel, diclofenac, naproxen, ibuprofen, oral\n"
     ]
    }
   ],
   "source": [
    "print(text_chunks[5500].page_content)"
   ]
  },
  {
   "cell_type": "code",
   "execution_count": 82,
   "metadata": {},
   "outputs": [],
   "source": [
    "from langchain_huggingface.embeddings import HuggingFaceEmbeddings\n",
    "\n",
    "# Download Embedding Model\n",
    "def hugging_face_embedding():\n",
    "    embedding = HuggingFaceEmbeddings(model_name=\"sentence-transformers/all-MiniLM-L6-v2\", show_progress=True)\n",
    "    return embedding"
   ]
  },
  {
   "cell_type": "code",
   "execution_count": 83,
   "metadata": {},
   "outputs": [],
   "source": [
    "embedding = hugging_face_embedding()"
   ]
  },
  {
   "cell_type": "code",
   "execution_count": 11,
   "metadata": {},
   "outputs": [
    {
     "data": {
      "text/plain": [
       "HuggingFaceEmbeddings(model_name='sentence-transformers/all-MiniLM-L6-v2', cache_folder=None, model_kwargs={}, encode_kwargs={}, multi_process=False, show_progress=True)"
      ]
     },
     "execution_count": 11,
     "metadata": {},
     "output_type": "execute_result"
    }
   ],
   "source": [
    "embedding"
   ]
  },
  {
   "cell_type": "code",
   "execution_count": 84,
   "metadata": {},
   "outputs": [
    {
     "name": "stderr",
     "output_type": "stream",
     "text": [
      "Batches: 100%|██████████| 1/1 [00:00<00:00, 65.85it/s]"
     ]
    },
    {
     "name": "stdout",
     "output_type": "stream",
     "text": [
      "Length of Vector : 384\n"
     ]
    },
    {
     "name": "stderr",
     "output_type": "stream",
     "text": [
      "\n"
     ]
    }
   ],
   "source": [
    "result = embedding.embed_query(\"Parth Dobariya\")\n",
    "print(f\"Length of Vector : {len(result)}\")"
   ]
  },
  {
   "cell_type": "code",
   "execution_count": 85,
   "metadata": {},
   "outputs": [
    {
     "name": "stderr",
     "output_type": "stream",
     "text": [
      "Batches: 100%|██████████| 180/180 [01:44<00:00,  1.73it/s]\n"
     ]
    }
   ],
   "source": [
    "from langchain_chroma import Chroma\n",
    "\n",
    "persist_directory = \"db\"\n",
    "\n",
    "chroma_vectordb = Chroma.from_documents(documents=text_chunks, embedding=embedding, persist_directory=persist_directory)"
   ]
  },
  {
   "cell_type": "code",
   "execution_count": 86,
   "metadata": {},
   "outputs": [],
   "source": [
    "chroma_vectordb = Chroma(persist_directory=persist_directory, embedding_function=embedding)"
   ]
  },
  {
   "cell_type": "code",
   "execution_count": 87,
   "metadata": {},
   "outputs": [
    {
     "data": {
      "text/plain": [
       "<langchain_chroma.vectorstores.Chroma at 0x7496a0144280>"
      ]
     },
     "execution_count": 87,
     "metadata": {},
     "output_type": "execute_result"
    }
   ],
   "source": [
    "chroma_vectordb"
   ]
  },
  {
   "cell_type": "code",
   "execution_count": 88,
   "metadata": {},
   "outputs": [],
   "source": [
    "# Make retriever\n",
    "retriever = chroma_vectordb.as_retriever()"
   ]
  },
  {
   "cell_type": "code",
   "execution_count": 89,
   "metadata": {},
   "outputs": [
    {
     "name": "stderr",
     "output_type": "stream",
     "text": [
      "Batches: 100%|██████████| 1/1 [00:00<00:00, 58.85it/s]\n"
     ]
    }
   ],
   "source": [
    "docs = retriever.invoke(\"Definition of Camel contagious ecthyma\")"
   ]
  },
  {
   "cell_type": "code",
   "execution_count": 90,
   "metadata": {},
   "outputs": [
    {
     "name": "stdout",
     "output_type": "stream",
     "text": [
      "The camel contagious ecthyma (CCE) – also \n",
      "known as contagious pustular dermatitis (CPD), \n",
      "sore mouth, or orf – is  a highly contagious viral \n",
      "disease, mostly of young camels, that contributes \n",
      "to calf debility and, occasionally, calf loss. CCE is\n",
      "==================================================\n",
      "The camel contagious ecthyma (CCE) – also \n",
      "known as contagious pustular dermatitis (CPD), \n",
      "sore mouth, or orf – is  a highly contagious viral \n",
      "disease, mostly of young camels, that contributes \n",
      "to calf debility and, occasionally, calf loss. CCE is\n",
      "==================================================\n",
      "oral swabs are taken. If gastrointestinal symptoms \n",
      "are present, then a rectal swab should be collected. \n",
      "Blood samples are required for immunological and \n",
      "molecular diagnostic tests.\n",
      "7.2.1.2. Camel contagious ecthyma \n",
      "Definition and causative agent \n",
      "The camel contagious ecthyma (CCE) – also\n",
      "==================================================\n",
      "oral swabs are taken. If gastrointestinal symptoms \n",
      "are present, then a rectal swab should be collected. \n",
      "Blood samples are required for immunological and \n",
      "molecular diagnostic tests.\n",
      "7.2.1.2. Camel contagious ecthyma \n",
      "Definition and causative agent \n",
      "The camel contagious ecthyma (CCE) – also\n",
      "==================================================\n"
     ]
    }
   ],
   "source": [
    "for i in docs:\n",
    "    print(i.page_content)\n",
    "    print(\"=\"*50)"
   ]
  },
  {
   "cell_type": "code",
   "execution_count": 91,
   "metadata": {},
   "outputs": [],
   "source": [
    "import os\n",
    "from dotenv import load_dotenv\n",
    "from langchain_google_genai import GoogleGenerativeAI\n",
    "\n",
    "load_dotenv()\n",
    "GOOGLE_GEMINI_API = os.getenv(\"GOOGLE_GEMINI_API\")\n",
    "\n",
    "llm = GoogleGenerativeAI(model=\"gemini-pro\", api_key=GOOGLE_GEMINI_API)"
   ]
  },
  {
   "cell_type": "code",
   "execution_count": 92,
   "metadata": {},
   "outputs": [],
   "source": [
    "from langchain.prompts import ChatPromptTemplate\n",
    "\n",
    "system_prompt = (\n",
    "    \"Use the following pieces of information to answer to user's question.\"\n",
    "    \"If you don't know the answer, just say that you don't know, don't try to make up an answer.\"\n",
    "    \n",
    "    \"Context: {context}\"\n",
    ")\n",
    "\n",
    "PROMPT = ChatPromptTemplate.from_messages(\n",
    "    [\n",
    "        (\"system\", system_prompt),\n",
    "        (\"human\", \"{input}\")\n",
    "    ]\n",
    ")"
   ]
  },
  {
   "cell_type": "code",
   "execution_count": 93,
   "metadata": {},
   "outputs": [],
   "source": [
    "from langchain.chains import create_retrieval_chain\n",
    "from langchain.chains.combine_documents import create_stuff_documents_chain\n",
    "\n",
    "retriever = chroma_vectordb.as_retriever(search_kwargs={'k': 2})\n",
    "question_answer_chain = create_stuff_documents_chain(llm=llm, prompt=PROMPT)\n",
    "qa_chain = create_retrieval_chain(retriever=retriever, combine_docs_chain=question_answer_chain)"
   ]
  },
  {
   "cell_type": "code",
   "execution_count": 94,
   "metadata": {},
   "outputs": [
    {
     "name": "stderr",
     "output_type": "stream",
     "text": [
      "Batches: 100%|██████████| 1/1 [00:00<00:00, 56.68it/s]\n"
     ]
    }
   ],
   "source": [
    "query = \"Definition of Camel contagious ecthyma\"\n",
    "response = qa_chain.invoke({\"input\": query})"
   ]
  },
  {
   "cell_type": "code",
   "execution_count": 95,
   "metadata": {},
   "outputs": [
    {
     "data": {
      "text/plain": [
       "'Camel contagious ecthyma (CCE) is a highly contagious viral disease, mostly of young camels, that contributes to calf debility and, occasionally, calf loss.'"
      ]
     },
     "execution_count": 95,
     "metadata": {},
     "output_type": "execute_result"
    }
   ],
   "source": [
    "response[\"answer\"]"
   ]
  },
  {
   "cell_type": "code",
   "execution_count": 96,
   "metadata": {},
   "outputs": [
    {
     "name": "stderr",
     "output_type": "stream",
     "text": [
      "Batches: 100%|██████████| 1/1 [00:00<00:00, 76.00it/s]\n"
     ]
    },
    {
     "name": "stdout",
     "output_type": "stream",
     "text": [
      "Response : Camel contagious ecthyma (CCE) is a highly contagious viral disease, mostly of young camels, that contributes to calf debility and, occasionally, calf loss.\n"
     ]
    }
   ],
   "source": [
    "while True:\n",
    "    user_query = input(f\"Input Prompt\").lower()\n",
    "    if user_query == \"exit\" or user_query == \"\":\n",
    "        break\n",
    "    else:\n",
    "        response = qa_chain.invoke({\"input\": user_query})\n",
    "        print(f\"Response : {response['answer']}\")"
   ]
  }
 ],
 "metadata": {
  "kernelspec": {
   "display_name": "Python 3",
   "language": "python",
   "name": "python3"
  },
  "language_info": {
   "codemirror_mode": {
    "name": "ipython",
    "version": 3
   },
   "file_extension": ".py",
   "mimetype": "text/x-python",
   "name": "python",
   "nbconvert_exporter": "python",
   "pygments_lexer": "ipython3",
   "version": "3.10.16"
  }
 },
 "nbformat": 4,
 "nbformat_minor": 2
}
